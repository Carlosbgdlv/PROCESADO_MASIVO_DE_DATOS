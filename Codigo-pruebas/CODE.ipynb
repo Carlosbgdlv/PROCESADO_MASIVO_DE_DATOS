{
 "cells": [
  {
   "cell_type": "code",
   "execution_count": null,
   "metadata": {},
   "outputs": [],
   "source": [
    "import pandas as pd \n",
    "import seaborn as sns\n",
    "import matplotlib.pyplot as plt\n",
    "import pylab\n",
    "import scipy.stats as ss\n",
    "import csv\n",
    "import numpy as np\n",
    "import sklearn\n",
    "import glob\n",
    "from io import StringIO\n",
    "from sklearn.model_selection import train_test_split\n",
    "from sklearn import datasets\n",
    "from sklearn import svm\n",
    "from sklearn.neighbors import KNeighborsClassifier\n",
    "from sklearn.tree import DecisionTreeClassifier\n",
    "from sklearn.metrics import classification_report\n",
    "from sklearn.metrics import confusion_matrix\n",
    "from sklearn.model_selection import cross_val_score\n",
    "from sklearn.preprocessing import StandardScaler"
   ]
  },
  {
   "cell_type": "code",
   "execution_count": null,
   "metadata": {
    "scrolled": true
   },
   "outputs": [],
   "source": [
    "#csv_filename = 'C:/Users/ywen2/Desktop/URJC/PROCESADO MASIVO DE DATOS/PROCESADO_MASIVO_DE_DATOS/country_vaccinations.csv'\n",
    "\n",
    "csv_filename = 'country_vaccinations.csv'\n",
    "\n",
    "with open(csv_filename, 'r') as archivo:\n",
    "    leer = csv.reader(archivo)\n",
    "    lista = list(leer)\n",
    "df = pd.DataFrame(lista)\n",
    "df"
   ]
  },
  {
   "cell_type": "code",
   "execution_count": null,
   "metadata": {},
   "outputs": [],
   "source": [
    "#csv_filename_1 = 'C:/Users/ywen2/Desktop/URJC/PROCESADO MASIVO DE DATOS/PROCESADO_MASIVO_DE_DATOS/country_vaccinations_by_manufacturer.csv'\n",
    "\n",
    "csv_filename_1 = 'country_vaccinations_by_manufacturer.csv'\n",
    "\n",
    "with open(csv_filename_1, 'r') as archivo_1:\n",
    "    leer_1 = csv.reader(archivo_1)\n",
    "    lista_1 = list(leer_1)\n",
    "df_1 = pd.DataFrame(lista_1)\n",
    "df_1"
   ]
  },
  {
   "cell_type": "markdown",
   "metadata": {},
   "source": [
    "HOLA BUENAA TARDES"
   ]
  },
  {
   "cell_type": "markdown",
   "metadata": {},
   "source": [
    "Hola, soy Gema y estoy comprobando si se utilizar esto"
   ]
  },
  {
   "cell_type": "code",
   "execution_count": null,
   "metadata": {},
   "outputs": [],
   "source": [
    "df_1"
   ]
  },
  {
   "cell_type": "code",
   "execution_count": null,
   "metadata": {},
   "outputs": [],
   "source": [
    "df"
   ]
  },
  {
   "cell_type": "code",
   "execution_count": null,
   "metadata": {},
   "outputs": [],
   "source": []
  }
 ],
 "metadata": {
  "kernelspec": {
   "display_name": "Python 3",
   "language": "python",
   "name": "python3"
  }
 },
 "nbformat": 4,
 "nbformat_minor": 2
}
